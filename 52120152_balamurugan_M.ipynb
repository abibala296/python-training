{
  "nbformat": 4,
  "nbformat_minor": 0,
  "metadata": {
    "colab": {
      "provenance": [],
      "authorship_tag": "ABX9TyOdvZH3rWgEzmTHqOOXzcLw",
      "include_colab_link": true
    },
    "kernelspec": {
      "name": "python3",
      "display_name": "Python 3"
    },
    "language_info": {
      "name": "python"
    }
  },
  "cells": [
    {
      "cell_type": "markdown",
      "metadata": {
        "id": "view-in-github",
        "colab_type": "text"
      },
      "source": [
        "<a href=\"https://colab.research.google.com/github/abibala296/python-training/blob/main/52120152_balamurugan_M.ipynb\" target=\"_parent\"><img src=\"https://colab.research.google.com/assets/colab-badge.svg\" alt=\"Open In Colab\"/></a>"
      ]
    },
    {
      "cell_type": "code",
      "execution_count": 2,
      "metadata": {
        "colab": {
          "base_uri": "https://localhost:8080/",
          "height": 0
        },
        "id": "TmvA42Jp-GZm",
        "outputId": "cc2eb26e-e4da-4a6e-9e2d-9e516b05d85e"
      },
      "outputs": [
        {
          "output_type": "stream",
          "name": "stdout",
          "text": [
            "Enter first number: 12\n",
            "Enter second number: 18\n",
            "Common factors: [1, 2, 3, 6]\n"
          ]
        }
      ],
      "source": [
        "#Assignment 3\n",
        "# 1)\n",
        "def common_factors (n1, n2):\n",
        "  common = []\n",
        "  for i in range(1, min(n1, n2) + 1):\n",
        "     if n1% i == 0 and n2 % i == 0:\n",
        "      common.append(i)\n",
        "  return common\n",
        "n1= int(input(\"Enter first number: \"))\n",
        "n2 = int(input(\"Enter second number: \"))\n",
        "print(\"Common factors:\", common_factors(n1,n2))"
      ]
    },
    {
      "cell_type": "code",
      "source": [
        "#2)\n",
        "def union_set(set1, set2):\n",
        "    return set1.union(set2)\n",
        "\n",
        "def remove_duplicates(set1, set2):\n",
        "    return union_set(set1, set2)\n",
        "\n",
        "# Test the function with set1 (1, 2, 3, 4, 5) and set2 (4, 5, 6, 7, 8)\n",
        "set1 = {1, 2, 3, 4, 5}\n",
        "set2 = {4, 5, 6, 7, 8}\n",
        "\n",
        "print(\"Set1:\", set1)\n",
        "print(\"Set2:\", set2)\n",
        "print(\"New Set with unique items:\", remove_duplicates(set1, set2))\n"
      ],
      "metadata": {
        "colab": {
          "base_uri": "https://localhost:8080/",
          "height": 0
        },
        "id": "TC3X5I6k-9wy",
        "outputId": "0f2dfe8a-20e7-4e34-98d0-3f2ad2615c5e"
      },
      "execution_count": 6,
      "outputs": [
        {
          "output_type": "stream",
          "name": "stdout",
          "text": [
            "Set1: {1, 2, 3, 4, 5}\n",
            "Set2: {4, 5, 6, 7, 8}\n",
            "New Set with unique items: {1, 2, 3, 4, 5, 6, 7, 8}\n"
          ]
        }
      ]
    },
    {
      "cell_type": "code",
      "source": [
        "#3)\n",
        "def max_key(d):\n",
        "    return max(d, key=d.get)\n",
        "\n",
        "def min_key(d):\n",
        "    return min(d, key=d.get)\n",
        "\n",
        "# Test the functions with the dictionary d = {'a': 5, 'b': 2, 'c': 8, 'd': 3}\n",
        "d = {'a': 5, 'b': 2, 'c': 8, 'd': 3}\n",
        "\n",
        "print(\"Dictionary:\", d)\n",
        "print(\"Key of max value:\", max_key(d))\n",
        "print(\"Key of min value:\", min_key(d))\n"
      ],
      "metadata": {
        "colab": {
          "base_uri": "https://localhost:8080/",
          "height": 0
        },
        "id": "_ha9dETD_xHY",
        "outputId": "2075d7df-a012-4833-8f87-ad435dd5d8dc"
      },
      "execution_count": 9,
      "outputs": [
        {
          "output_type": "stream",
          "name": "stdout",
          "text": [
            "Dictionary: {'a': 5, 'b': 2, 'c': 8, 'd': 3}\n",
            "Key of max value: c\n",
            "Key of min value: b\n"
          ]
        }
      ]
    },
    {
      "cell_type": "code",
      "source": [
        "#4)\n",
        "n = int(input())\n",
        "phone_book = {}\n",
        "\n",
        "for _ in range(n):\n",
        "    name, phone_number = input().split()\n",
        "    phone_book[name] = phone_number\n",
        "\n",
        "while True:\n",
        "    try:\n",
        "        query = input()\n",
        "        if query in phone_book:\n",
        "            print(f\"{query}-{phone_book[query]}\")\n",
        "        else:\n",
        "            print(\"Not found\")\n",
        "    except EOFError:\n",
        "        break\n"
      ],
      "metadata": {
        "colab": {
          "base_uri": "https://localhost:8080/",
          "height": 0
        },
        "id": "8L5SOWNABOj7",
        "outputId": "71a6ad75-094d-4d81-fb38-eaab3c2d5033"
      },
      "execution_count": null,
      "outputs": [
        {
          "output_type": "stream",
          "name": "stdout",
          "text": [
            "3\n",
            "ram 9786866\n",
            "sam 7755656\n",
            "raju 54764674\n",
            "ram\n",
            "ram-9786866\n",
            "syab\n",
            "Not found\n"
          ]
        }
      ]
    }
  ]
}