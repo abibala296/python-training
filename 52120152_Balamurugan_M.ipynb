{
  "nbformat": 4,
  "nbformat_minor": 0,
  "metadata": {
    "colab": {
      "provenance": [],
      "authorship_tag": "ABX9TyOG4l73fyVaCpl2WgMxTRq+",
      "include_colab_link": true
    },
    "kernelspec": {
      "name": "python3",
      "display_name": "Python 3"
    },
    "language_info": {
      "name": "python"
    }
  },
  "cells": [
    {
      "cell_type": "markdown",
      "metadata": {
        "id": "view-in-github",
        "colab_type": "text"
      },
      "source": [
        "<a href=\"https://colab.research.google.com/github/abibala296/python-training/blob/main/52120152_Balamurugan_M.ipynb\" target=\"_parent\"><img src=\"https://colab.research.google.com/assets/colab-badge.svg\" alt=\"Open In Colab\"/></a>"
      ]
    },
    {
      "cell_type": "code",
      "source": [
        "# 1) Write a Python function that takes a list and returns a new list with unique elements of the first list.\n",
        "\n",
        "# Sample List : [1,2,3,3,3,3,4,5]\n",
        "# sample output:[1, 2, 3, 4, 5]\n",
        "\n",
        "def unique_list(l):\n",
        "    x = []\n",
        "\n",
        "    for a in l:\n",
        "        if a not in x:\n",
        "            x.append(a)\n",
        "    return x\n",
        "\n",
        "\n",
        "print(unique_list([1, 2, 3, 3, 3, 3, 4, 5]))\n"
      ],
      "metadata": {
        "colab": {
          "base_uri": "https://localhost:8080/",
          "height": 0
        },
        "id": "agXi0Irost6V",
        "outputId": "d0fdbb0b-4a03-4413-ced0-1dd1b1359a81"
      },
      "execution_count": 4,
      "outputs": [
        {
          "output_type": "stream",
          "name": "stdout",
          "text": [
            "[1, 2, 3, 4, 5]\n"
          ]
        }
      ]
    },
    {
      "cell_type": "code",
      "source": [
        "# 2)Write a Python function to check whether a number is perfect or not.\n",
        "\n",
        "n=int(input(\"enter any number: \"))\n",
        "sum=0\n",
        "for i in range(1,n):\n",
        "   if(n% i == 0):\n",
        "    sum =sum + i\n",
        "if (sum == n):\n",
        "  print(\"the number is a perfect number \")\n",
        "else:\n",
        "  print(\"the number is not a perfect number\")"
      ],
      "metadata": {
        "colab": {
          "base_uri": "https://localhost:8080/",
          "height": 0
        },
        "id": "i3k1fopJxLBD",
        "outputId": "60b7c358-2ef4-4693-ebf0-5a5710dcfebb"
      },
      "execution_count": 10,
      "outputs": [
        {
          "output_type": "stream",
          "name": "stdout",
          "text": [
            "enter any number: 6\n",
            "the number is a perfect number \n"
          ]
        }
      ]
    },
    {
      "cell_type": "code",
      "source": [
        "def perfect_number(n):\n",
        " sum=0\n",
        " for i in range(1,n):\n",
        "  if n%i==0:\n",
        "   sum+=i\n",
        " return sum==n\n",
        "print(perfect_number(6))"
      ],
      "metadata": {
        "colab": {
          "base_uri": "https://localhost:8080/",
          "height": 0
        },
        "id": "STd6RDOAxHAF",
        "outputId": "96cc3834-f2c4-4f0b-829d-e7912132183c"
      },
      "execution_count": 11,
      "outputs": [
        {
          "output_type": "stream",
          "name": "stdout",
          "text": [
            "True\n"
          ]
        }
      ]
    },
    {
      "cell_type": "code",
      "source": [
        "\n",
        "import math\n",
        "p1 = [4, 0]\n",
        "p2 = [6, 6]\n",
        "distance = math.sqrt(((p1[0] - p2[0]) ** 2) + ((p1[1] - p2[1]) ** 2))\n",
        "print(distance)\n"
      ],
      "metadata": {
        "colab": {
          "base_uri": "https://localhost:8080/",
          "height": 0
        },
        "id": "JnYH4eDMxIt7",
        "outputId": "480d0b0c-47f8-44a9-af2c-18b4796a0a0b"
      },
      "execution_count": 13,
      "outputs": [
        {
          "output_type": "stream",
          "name": "stdout",
          "text": [
            "6.324555320336759\n"
          ]
        }
      ]
    },
    {
      "cell_type": "code",
      "source": [
        "def fibonacci(count):\n",
        "    sequence = [0, 1]\n",
        "    [sequence.append(sequence[-1] + sequence[-2]) for _ in range(2, count)]\n",
        "    return sequence[:count]\n",
        "print(fibonacci(10))"
      ],
      "metadata": {
        "colab": {
          "base_uri": "https://localhost:8080/",
          "height": 0
        },
        "id": "3pHt-h7MxPky",
        "outputId": "0703d923-9ed1-49e7-fb72-4ae2abc99b86"
      },
      "execution_count": 24,
      "outputs": [
        {
          "output_type": "stream",
          "name": "stdout",
          "text": [
            "[0, 1, 1, 2, 3, 5, 8, 13, 21, 34]\n"
          ]
        }
      ]
    },
    {
      "cell_type": "code",
      "source": [
        "def difference_between_max_and_min(num_str):\n",
        "\n",
        "    digits = [int(digit) for digit in num_str]\n",
        "    sorted_asc = sorted(digits)\n",
        "    sorted_desc = sorted(digits, reverse=True)\n",
        "\n",
        "    max_num = int(\"\".join(map(str, sorted_desc)))\n",
        "    min_num = int(\"\".join(map(str, sorted_asc)))\n",
        "\n",
        "    difference = max_num - min_num\n",
        "    return difference\n",
        "\n",
        "# Example usage:\n",
        "input_number = \"213\"\n",
        "result = difference_between_max_and_min(input_number)\n",
        "print(f\"Difference for {input_number}: {result}\")\n"
      ],
      "metadata": {
        "colab": {
          "base_uri": "https://localhost:8080/",
          "height": 0
        },
        "id": "yNJXb61pxPGh",
        "outputId": "6603452e-3afa-4d1d-9856-844cbbd11195"
      },
      "execution_count": 26,
      "outputs": [
        {
          "output_type": "stream",
          "name": "stdout",
          "text": [
            "Difference for 213: 198\n"
          ]
        }
      ]
    },
    {
      "source": [
        "topping = \"\"\n",
        "while topping != 'quit':\n",
        "  topping = input(\"Enter a pizza topping you would like to add (or 'quit' to finish): \")\n",
        "  if topping != 'quit':\n",
        "    print(f\"I'll add {topping} to your pizza.\")"
      ],
      "cell_type": "code",
      "metadata": {
        "colab": {
          "base_uri": "https://localhost:8080/",
          "height": 0
        },
        "id": "FFSjeNiK5hNB",
        "outputId": "0ebdb532-4bfd-4f73-feb5-be0ab94af440"
      },
      "execution_count": 27,
      "outputs": [
        {
          "name": "stdout",
          "output_type": "stream",
          "text": [
            "Enter a pizza topping you would like to add (or 'quit' to finish): finish\n",
            "I'll add finish to your pizza.\n",
            "Enter a pizza topping you would like to add (or 'quit' to finish): quit\n"
          ]
        }
      ]
    },
    {
      "source": [
        "while True:\n",
        "  age_str = input(\"Enter your age (or 'quit' to finish): \")\n",
        "  if age_str == 'quit':\n",
        "    break\n",
        "  age = int(age_str)\n",
        "  if age < 3:\n",
        "    print(\"The ticket is free.\")\n",
        "  elif age >= 3 and age <= 12:\n",
        "    print(\"The ticket is $10.\")\n",
        "  else:\n",
        "    print(\"The ticket is $15.\")"
      ],
      "cell_type": "code",
      "metadata": {
        "colab": {
          "base_uri": "https://localhost:8080/",
          "height": 0
        },
        "id": "YTw3gcEO6FbT",
        "outputId": "73b665db-c2e2-443e-c2b8-633bd2e283a4"
      },
      "execution_count": 29,
      "outputs": [
        {
          "name": "stdout",
          "output_type": "stream",
          "text": [
            "Enter your age (or 'quit' to finish): 2\n",
            "The ticket is free.\n",
            "Enter your age (or 'quit' to finish): 10\n",
            "The ticket is $10.\n",
            "Enter your age (or 'quit' to finish): 20\n",
            "The ticket is $15.\n",
            "Enter your age (or 'quit' to finish): quit\n"
          ]
        }
      ]
    },
    {
      "source": [
        "for i in range(10):\n",
        "  if i % 2 == 0:\n",
        "    continue\n",
        "  else:\n",
        "    print(f\"{i} squared is equal to {i**2}\")"
      ],
      "cell_type": "code",
      "metadata": {
        "colab": {
          "base_uri": "https://localhost:8080/",
          "height": 0
        },
        "id": "6WWXqrWT6iVl",
        "outputId": "f0a70162-b4c1-41d3-c8e5-491d4e3a2cb7"
      },
      "execution_count": 30,
      "outputs": [
        {
          "output_type": "stream",
          "name": "stdout",
          "text": [
            "1 squared is equal to 1\n",
            "3 squared is equal to 9\n",
            "5 squared is equal to 25\n",
            "7 squared is equal to 49\n",
            "9 squared is equal to 81\n"
          ]
        }
      ]
    },
    {
      "source": [
        "favorite_pizzas = [\"pepperoni\", \"margherita\", \"hawaiian\"]\n",
        "\n",
        "for pizza in favorite_pizzas:\n",
        "  print(f\"I like {pizza} pizza.\")\n",
        "\n",
        "print(\"I really love pizza!\")"
      ],
      "cell_type": "code",
      "metadata": {
        "colab": {
          "base_uri": "https://localhost:8080/",
          "height": 0
        },
        "id": "xRS8Scxb6s90",
        "outputId": "417643d9-33ec-4105-96d3-c4e519106165"
      },
      "execution_count": 31,
      "outputs": [
        {
          "output_type": "stream",
          "name": "stdout",
          "text": [
            "I like pepperoni pizza.\n",
            "I like margherita pizza.\n",
            "I like hawaiian pizza.\n",
            "I really love pizza!\n"
          ]
        }
      ]
    },
    {
      "cell_type": "code",
      "source": [],
      "metadata": {
        "id": "xZdQs9yXxRr2"
      },
      "execution_count": null,
      "outputs": []
    },
    {
      "cell_type": "code",
      "source": [],
      "metadata": {
        "id": "irszroW2xRbc"
      },
      "execution_count": null,
      "outputs": []
    },
    {
      "cell_type": "code",
      "source": [],
      "metadata": {
        "id": "iTQtRJpwxRJz"
      },
      "execution_count": null,
      "outputs": []
    },
    {
      "cell_type": "code",
      "source": [
        "\n"
      ],
      "metadata": {
        "id": "j_OvWsaAvvEZ"
      },
      "execution_count": 6,
      "outputs": []
    }
  ]
}