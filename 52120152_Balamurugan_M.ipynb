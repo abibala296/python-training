{
  "nbformat": 4,
  "nbformat_minor": 0,
  "metadata": {
    "colab": {
      "provenance": [],
      "authorship_tag": "ABX9TyPGvGfeyXHQdEaRF+MZn+mt",
      "include_colab_link": true
    },
    "kernelspec": {
      "name": "python3",
      "display_name": "Python 3"
    },
    "language_info": {
      "name": "python"
    }
  },
  "cells": [
    {
      "cell_type": "markdown",
      "metadata": {
        "id": "view-in-github",
        "colab_type": "text"
      },
      "source": [
        "<a href=\"https://colab.research.google.com/github/abibala296/python-training/blob/main/52120152_Balamurugan_M.ipynb\" target=\"_parent\"><img src=\"https://colab.research.google.com/assets/colab-badge.svg\" alt=\"Open In Colab\"/></a>"
      ]
    },
    {
      "cell_type": "code",
      "execution_count": 7,
      "metadata": {
        "colab": {
          "base_uri": "https://localhost:8080/"
        },
        "id": "wy7T95R4w6Ve",
        "outputId": "5c55d7fb-630c-49c0-e881-f0182262f4db"
      },
      "outputs": [
        {
          "output_type": "stream",
          "name": "stdout",
          "text": [
            "[('John', 170), ('heritage', 162), ('Chetan', 188)]\n"
          ]
        }
      ],
      "source": [
        "#1\n",
        "student_heights = [(\"John\", 170), (\"jersey\", 155), (\"heritage\", 162), (\"Chetan\", 188), (\"Devi\", 158)]\n",
        "k = 160\n",
        "\n",
        "tall_students = [student for student in student_heights if student[1] >= k]\n",
        "\n",
        "print(tall_students)\n"
      ]
    },
    {
      "cell_type": "code",
      "source": [
        "#2\n",
        "s1=['a', 'b', 'c']\n",
        "s2 =[3, 5, 6]\n",
        "cross_product= [[x, y] for x in s1 for y in s2]\n",
        "print(cross_product)"
      ],
      "metadata": {
        "colab": {
          "base_uri": "https://localhost:8080/"
        },
        "id": "KpaHLkMbzsiu",
        "outputId": "db7009f7-c987-4c91-b447-09973209040c"
      },
      "execution_count": 8,
      "outputs": [
        {
          "output_type": "stream",
          "name": "stdout",
          "text": [
            "[['a', 3], ['a', 5], ['a', 6], ['b', 3], ['b', 5], ['b', 6], ['c', 3], ['c', 5], ['c', 6]]\n"
          ]
        }
      ]
    },
    {
      "cell_type": "code",
      "source": [
        "if __name__ == '__main__':\n",
        "    N = int(input())\n",
        "    List = [];\n",
        "    for i in range(N):\n",
        "        command = input().split()\n",
        "        if command[0] == \"insert\":\n",
        "            List.insert(int(command[1]), int(command[2]))\n",
        "        elif command[0] == \"append\":\n",
        "            List.append(int(command[1]))\n",
        "        elif command[0] == \"pop\":\n",
        "            List.pop()\n",
        "        elif command[0] == \"print\":\n",
        "            print(List)\n",
        "        elif command[0] == \"remove\":\n",
        "            List.remove(int(command[1]))\n",
        "        elif command[0] == \"sort\":\n",
        "            List.sort()\n",
        "        else:\n",
        "            List.reverse()\n"
      ],
      "metadata": {
        "colab": {
          "base_uri": "https://localhost:8080/"
        },
        "id": "cweh7wUa0R5a",
        "outputId": "5afeb0cd-d4a1-45d3-d6b3-d83ad6403b07"
      },
      "execution_count": 12,
      "outputs": [
        {
          "output_type": "stream",
          "name": "stdout",
          "text": [
            "12\n",
            "insert 0 5\n",
            "insert  1 10\n",
            "insert 0 6\n",
            "print\n",
            "[6, 5, 10]\n",
            "remove 6\n",
            "append 9\n",
            "append 1\n",
            "sort\n",
            "print\n",
            "[1, 5, 9, 10]\n",
            "pop\n",
            "reverse\n",
            "print\n",
            "[9, 5, 1]\n"
          ]
        }
      ]
    },
    {
      "cell_type": "code",
      "source": [
        "#4\n",
        "n = int(input())\n",
        "t = tuple(map(int, input().split()))\n",
        "print(hash(t))"
      ],
      "metadata": {
        "colab": {
          "base_uri": "https://localhost:8080/"
        },
        "id": "cN4HxLS52NLg",
        "outputId": "2185454a-5f35-41d2-e496-90c5acc035b1"
      },
      "execution_count": 15,
      "outputs": [
        {
          "output_type": "stream",
          "name": "stdout",
          "text": [
            "2\n",
            "12 2\n",
            "5646003302091366357\n"
          ]
        }
      ]
    },
    {
      "cell_type": "code",
      "source": [
        "#5\n",
        "import sqlite3\n",
        "my_list = [1, 2, 3, 4, 5]\n",
        "conn = sqlite3.connect('my_database.db')\n",
        "cur = conn.cursor()\n",
        "cur.execute('CREATE TABLE IF NOT EXISTS my_table (id INTEGER)')\n",
        "for item in my_list:\n",
        " cur.execute('INSERT INTO my_table (id) VALUES (?)', (item,))\n",
        "conn.commit()\n",
        "conn.close()"
      ],
      "metadata": {
        "id": "8YhCa2sn2meV"
      },
      "execution_count": 17,
      "outputs": []
    }
  ]
}